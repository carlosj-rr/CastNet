{
 "cells": [
  {
   "cell_type": "code",
   "execution_count": 6,
   "metadata": {},
   "outputs": [],
   "source": [
    "import pstats\n",
    "from pstats import SortKey"
   ]
  },
  {
   "cell_type": "code",
   "execution_count": 2,
   "metadata": {},
   "outputs": [],
   "source": [
    "p=pstats.Stats(\"testProfile1.test\")"
   ]
  },
  {
   "cell_type": "code",
   "execution_count": 8,
   "metadata": {},
   "outputs": [
    {
     "name": "stdout",
     "output_type": "stream",
     "text": [
      "Thu Mar 17 16:35:52 2022    testProfile1.test\n",
      "\n",
      "         2013904656 function calls (1615080156 primitive calls) in 707.949 seconds\n",
      "\n",
      "   Ordered by: cumulative time\n",
      "   List reduced from 3882 to 20 due to restriction <20>\n",
      "\n",
      "   ncalls  tottime  percall  cumtime  percall filename:lineno(function)\n",
      "   1153/1    0.029    0.000  707.955  707.955 {built-in method builtins.exec}\n",
      "        1    0.012    0.012  707.955  707.955 retikulos_bc4.py:1(<module>)\n",
      "        1    0.002    0.002  706.169  706.169 retikulos_bc4.py:549(main_serial)\n",
      "       67    0.554    0.008  669.008    9.985 retikulos_bc4.py:156(grow_pop)\n",
      "        6    0.145    0.024  617.899  102.983 retikulos_bc4.py:587(branch_evol)\n",
      "398388534/73272  330.598    0.000  573.134    0.008 copy.py:128(deepcopy)\n",
      "185672/73272   85.416    0.000  572.527    0.008 {method '__deepcopy__' of 'numpy.ndarray' objects}\n",
      "     6642    1.815    0.000  520.065    0.078 retikulos_bc4.py:189(mutation_wrapper)\n",
      "     6642    3.806    0.001  233.469    0.035 retikulos_bc4.py:257(mutate_genome)\n",
      "       67    0.002    0.000  131.121    1.957 retikulos_bc4.py:434(cleanup_deads)\n",
      "796800014   77.522    0.000   77.522    0.000 {method 'get' of 'dict' objects}\n",
      "        3    0.007    0.002   63.606   21.202 retikulos_bc4.py:474(randsplit)\n",
      "     6642   17.725    0.003   59.311    0.009 retikulos_bc4.py:301(regulator_mutator)\n",
      "398662051   44.253    0.000   44.253    0.000 {built-in method builtins.id}\n",
      "398189635   34.776    0.000   34.776    0.000 copy.py:182(_deepcopy_atomic)\n",
      "  1704329   31.996    0.000   31.996    0.000 {built-in method numpy.array}\n",
      "     6642    8.783    0.001   23.790    0.004 retikulos_bc4.py:234(codPos)\n",
      "3462200/3076127    6.617    0.000   23.122    0.000 {built-in method numpy.core._multiarray_umath.implement_array_function}\n",
      "   796609   20.592    0.000   21.018    0.000 {method 'choice' of 'numpy.random.mtrand.RandomState' objects}\n",
      "   796408   16.560    0.000   20.491    0.000 retikulos_bc4.py:147(translate_codon)\n",
      "\n",
      "\n"
     ]
    },
    {
     "data": {
      "text/plain": [
       "<pstats.Stats at 0x7f17b5d11be0>"
      ]
     },
     "execution_count": 8,
     "metadata": {},
     "output_type": "execute_result"
    }
   ],
   "source": [
    "p.strip_dirs().sort_stats(SortKey.CUMULATIVE).print_stats(20)"
   ]
  },
  {
   "cell_type": "code",
   "execution_count": null,
   "metadata": {},
   "outputs": [],
   "source": []
  }
 ],
 "metadata": {
  "interpreter": {
   "hash": "84be971a47a86a31f49c1cf77fb0fb71d966ed9063f066a4122f7c2852de173a"
  },
  "kernelspec": {
   "display_name": "Python 3.9.4 ('paiton')",
   "language": "python",
   "name": "python3"
  },
  "language_info": {
   "codemirror_mode": {
    "name": "ipython",
    "version": 3
   },
   "file_extension": ".py",
   "mimetype": "text/x-python",
   "name": "python",
   "nbconvert_exporter": "python",
   "pygments_lexer": "ipython3",
   "version": "3.9.4"
  },
  "orig_nbformat": 4
 },
 "nbformat": 4,
 "nbformat_minor": 2
}
