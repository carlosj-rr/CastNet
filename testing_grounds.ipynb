{
 "cells": [
  {
   "cell_type": "code",
   "execution_count": 1,
   "metadata": {},
   "outputs": [],
   "source": [
    "import retikulos as rt\n",
    "np=rt.np\n",
    "tot_popsize=25\n",
    "founder_pop=np.ndarray((tot_popsize,),dtype=object)\n",
    "for i in range(len(founder_pop)):\n",
    "    founder_pop[i]=rt.founder_miner(0.3)"
   ]
  },
  {
   "cell_type": "code",
   "execution_count": 4,
   "metadata": {},
   "outputs": [
    {
     "name": "stdout",
     "output_type": "stream",
     "text": [
      "equal reproduction strategy selected...\n",
      "Running iteration 0\n",
      "6000 mutation(s) in this reproductive event\n",
      "5907 mutation(s) in this reproductive event\n",
      "5945 mutation(s) in this reproductive event\n",
      "6032 mutation(s) in this reproductive event\n",
      "Running iteration 1\n",
      "6079 mutation(s) in this reproductive event\n",
      "5907 mutation(s) in this reproductive event\n",
      "6040 mutation(s) in this reproductive event\n",
      "6043 mutation(s) in this reproductive event\n",
      "Running iteration 2\n",
      "6047 mutation(s) in this reproductive event\n",
      "6057 mutation(s) in this reproductive event\n",
      "6079 mutation(s) in this reproductive event\n",
      "5953 mutation(s) in this reproductive event\n",
      "Running iteration 3\n",
      "6038 mutation(s) in this reproductive event\n",
      "5893 mutation(s) in this reproductive event\n",
      "6015 mutation(s) in this reproductive event\n",
      "6152 mutation(s) in this reproductive event\n",
      "Running iteration 4\n",
      "5857 mutation(s) in this reproductive event\n",
      "6123 mutation(s) in this reproductive event\n",
      "6013 mutation(s) in this reproductive event\n",
      "5866 mutation(s) in this reproductive event\n",
      "Running iteration 5\n",
      "6023 mutation(s) in this reproductive event\n",
      "5951 mutation(s) in this reproductive event\n",
      "5967 mutation(s) in this reproductive event\n",
      "6045 mutation(s) in this reproductive event\n",
      "Running iteration 6\n",
      "6043 mutation(s) in this reproductive event\n",
      "5892 mutation(s) in this reproductive event\n",
      "6001 mutation(s) in this reproductive event\n",
      "5828 mutation(s) in this reproductive event\n",
      "Running iteration 7\n",
      "6036 mutation(s) in this reproductive event\n",
      "6002 mutation(s) in this reproductive event\n",
      "6112 mutation(s) in this reproductive event\n",
      "6005 mutation(s) in this reproductive event\n",
      "Running iteration 8\n",
      "5835 mutation(s) in this reproductive event\n",
      "5874 mutation(s) in this reproductive event\n",
      "5946 mutation(s) in this reproductive event\n",
      "6000 mutation(s) in this reproductive event\n",
      "Running iteration 9\n",
      "5959 mutation(s) in this reproductive event\n",
      "5931 mutation(s) in this reproductive event\n",
      "6002 mutation(s) in this reproductive event\n",
      "5938 mutation(s) in this reproductive event\n",
      "Running iteration 10\n",
      "6183 mutation(s) in this reproductive event\n",
      "6046 mutation(s) in this reproductive event\n",
      "6001 mutation(s) in this reproductive event\n",
      "5991 mutation(s) in this reproductive event\n",
      "Running iteration 11\n",
      "5910 mutation(s) in this reproductive event\n",
      "5959 mutation(s) in this reproductive event\n",
      "6030 mutation(s) in this reproductive event\n",
      "5970 mutation(s) in this reproductive event\n",
      "Running iteration 12\n",
      "6000 mutation(s) in this reproductive event\n",
      "5975 mutation(s) in this reproductive event\n",
      "5944 mutation(s) in this reproductive event\n",
      "5969 mutation(s) in this reproductive event\n",
      "Running iteration 13\n",
      "5929 mutation(s) in this reproductive event\n",
      "6020 mutation(s) in this reproductive event\n",
      "5979 mutation(s) in this reproductive event\n",
      "6037 mutation(s) in this reproductive event\n",
      "Running iteration 14\n",
      "6127 mutation(s) in this reproductive event\n",
      "6014 mutation(s) in this reproductive event\n",
      "6049 mutation(s) in this reproductive event\n",
      "6057 mutation(s) in this reproductive event\n",
      "Running iteration 15\n",
      "5978 mutation(s) in this reproductive event\n",
      "6024 mutation(s) in this reproductive event\n",
      "5940 mutation(s) in this reproductive event\n",
      "5975 mutation(s) in this reproductive event\n",
      "Running iteration 16\n",
      "6069 mutation(s) in this reproductive event\n",
      "5999 mutation(s) in this reproductive event\n",
      "6069 mutation(s) in this reproductive event\n",
      "5914 mutation(s) in this reproductive event\n",
      "Running iteration 17\n",
      "6016 mutation(s) in this reproductive event\n",
      "5991 mutation(s) in this reproductive event\n",
      "5946 mutation(s) in this reproductive event\n",
      "5961 mutation(s) in this reproductive event\n",
      "Running iteration 18\n",
      "5981 mutation(s) in this reproductive event\n",
      "6010 mutation(s) in this reproductive event\n",
      "6110 mutation(s) in this reproductive event\n",
      "6021 mutation(s) in this reproductive event\n",
      "Running iteration 19\n",
      "6034 mutation(s) in this reproductive event\n",
      "6003 mutation(s) in this reproductive event\n",
      "6073 mutation(s) in this reproductive event\n",
      "5956 mutation(s) in this reproductive event\n",
      "Running iteration 20\n",
      "6016 mutation(s) in this reproductive event\n",
      "5981 mutation(s) in this reproductive event\n",
      "5938 mutation(s) in this reproductive event\n",
      "5950 mutation(s) in this reproductive event\n",
      "Running iteration 21\n",
      "5931 mutation(s) in this reproductive event\n",
      "6048 mutation(s) in this reproductive event\n",
      "5998 mutation(s) in this reproductive event\n",
      "6007 mutation(s) in this reproductive event\n",
      "Running iteration 22\n",
      "6033 mutation(s) in this reproductive event\n",
      "5921 mutation(s) in this reproductive event\n",
      "6033 mutation(s) in this reproductive event\n",
      "6082 mutation(s) in this reproductive event\n",
      "Running iteration 23\n",
      "6002 mutation(s) in this reproductive event\n",
      "5954 mutation(s) in this reproductive event\n",
      "6018 mutation(s) in this reproductive event\n",
      "6007 mutation(s) in this reproductive event\n",
      "Running iteration 24\n",
      "6074 mutation(s) in this reproductive event\n",
      "6064 mutation(s) in this reproductive event\n",
      "6027 mutation(s) in this reproductive event\n",
      "5895 mutation(s) in this reproductive event\n",
      "44 organisms survived\n"
     ]
    }
   ],
   "source": [
    "result=rt.grow_pop(founder_pop,100)"
   ]
  },
  {
   "cell_type": "code",
   "execution_count": 3,
   "metadata": {},
   "outputs": [
    {
     "ename": "NameError",
     "evalue": "name 'result' is not defined",
     "output_type": "error",
     "traceback": [
      "\u001b[0;31m---------------------------------------------------------------------------\u001b[0m",
      "\u001b[0;31mNameError\u001b[0m                                 Traceback (most recent call last)",
      "\u001b[0;32m/tmp/ipykernel_50902/3077564354.py\u001b[0m in \u001b[0;36m<module>\u001b[0;34m\u001b[0m\n\u001b[0;32m----> 1\u001b[0;31m \u001b[0mresult\u001b[0m\u001b[0;34m[\u001b[0m\u001b[0;36m3\u001b[0m\u001b[0;34m]\u001b[0m\u001b[0;34m\u001b[0m\u001b[0;34m\u001b[0m\u001b[0m\n\u001b[0m",
      "\u001b[0;31mNameError\u001b[0m: name 'result' is not defined"
     ]
    }
   ],
   "source": [
    "result[3]"
   ]
  },
  {
   "cell_type": "code",
   "execution_count": 8,
   "metadata": {},
   "outputs": [
    {
     "data": {
      "text/plain": [
       "0"
      ]
     },
     "execution_count": 8,
     "metadata": {},
     "output_type": "execute_result"
    }
   ],
   "source": [
    "result[0][9]"
   ]
  },
  {
   "cell_type": "code",
   "execution_count": null,
   "metadata": {},
   "outputs": [],
   "source": []
  }
 ],
 "metadata": {
  "interpreter": {
   "hash": "84be971a47a86a31f49c1cf77fb0fb71d966ed9063f066a4122f7c2852de173a"
  },
  "kernelspec": {
   "display_name": "Python 3.9.4 ('paiton')",
   "language": "python",
   "name": "python3"
  },
  "language_info": {
   "codemirror_mode": {
    "name": "ipython",
    "version": 3
   },
   "file_extension": ".py",
   "mimetype": "text/x-python",
   "name": "python",
   "nbconvert_exporter": "python",
   "pygments_lexer": "ipython3",
   "version": "3.9.4"
  },
  "orig_nbformat": 4
 },
 "nbformat": 4,
 "nbformat_minor": 2
}
